{
 "cells": [
  {
   "cell_type": "code",
   "execution_count": 2,
   "metadata": {},
   "outputs": [],
   "source": [
    "# import libraries\n",
    "import os\n",
    "import numpy as np\n",
    "import pandas as pd\n",
    "import matplotlib.pyplot as plt\n",
    "import seaborn as sns\n",
    "sns.set()"
   ]
  },
  {
   "cell_type": "code",
   "execution_count": 6,
   "metadata": {},
   "outputs": [
    {
     "name": "stdout",
     "output_type": "stream",
     "text": [
      "<class 'list'>\n",
      "    SubjectID  StimulusType  response   RT\n",
      "0           0             1         1  740\n",
      "1           0             1         1  691\n",
      "2           0             1         1  628\n",
      "3           0             0         0    0\n",
      "4           0             1         1  462\n",
      "5           0             1         1  447\n",
      "6           0             1         1  476\n",
      "7           0             1         1  480\n",
      "8           0             1         1  412\n",
      "9           0             1         1  432\n",
      "10          0             1         1  478\n",
      "11          0             1         1  493\n",
      "12          0             1         1  414\n",
      "13          0             1         1  413\n",
      "14          0             1         1  414\n",
      "15          0             1         1  378\n",
      "16          0             0         0    0\n",
      "17          0             1         1  317\n",
      "18          0             0         0    0\n",
      "19          0             1         1  347\n",
      "20          0             1         1  443\n",
      "21          0             1         1  445\n",
      "22          0             1         1  446\n",
      "23          0             1         1  464\n",
      "24          0             1         1  462\n",
      "25          0             1         1  397\n",
      "26          0             1         1  478\n",
      "27          0             0         0    0\n",
      "28          0             0         0    0\n",
      "29          0             1         1  362\n",
      "..        ...           ...       ...  ...\n",
      "70          2             1         1  339\n",
      "71          2             0         0    0\n",
      "72          2             1         1  287\n",
      "73          2             1         1  254\n",
      "74          2             1         1  305\n",
      "75          2             0         0    0\n",
      "76          2             0         0    0\n",
      "77          2             1         1  305\n",
      "78          2             0         0    0\n",
      "79          2             1         1  288\n",
      "80          2             0         0    0\n",
      "81          2             1         1  305\n",
      "82          2             1         1  340\n",
      "83          2             1         1  304\n",
      "84          2             1         1  338\n",
      "85          2             0         0    0\n",
      "86          2             0         0    0\n",
      "87          2             0         0    0\n",
      "88          2             1         1  356\n",
      "89          2             1         1  338\n",
      "90          2             1         1  271\n",
      "91          2             1         1  272\n",
      "92          2             1         1  304\n",
      "93          2             1         1  288\n",
      "94          2             1         1  323\n",
      "95          2             1         1  287\n",
      "96          2             0         0    0\n",
      "97          2             1         1  271\n",
      "98          2             0         0    0\n",
      "99          2             0         1  271\n",
      "\n",
      "[800 rows x 4 columns]\n"
     ]
    }
   ],
   "source": [
    "import glob\n",
    "import os\n",
    "\n",
    "PATH = os.getcwd()+ \"/Data\"\n",
    "all_files = glob.glob(os.path.join(PATH, \"*.csv\"))     # advisable to use os.path.join as this makes concatenation OS independent\n",
    "\n",
    "print(type(all_files))\n",
    "\n",
    "np_array_list = []\n",
    "for file_ in all_files:\n",
    "    df = pd.read_csv(file_,index_col=None, header=0)\n",
    "    np_array_list.append(df)\n",
    "\n",
    "df_concatenated = pd.concat(np_array_list)\n",
    "\n",
    "# TODO\n",
    "\n",
    "# use pd.set_option here to display in a nice way\n",
    "# TODO\n",
    "#df_concatenated\n",
    "\n",
    "# save concatenated dataframe\n",
    "#DATAPATH = os.getcwd() + '/Processed/data_concatenated.csv'\n",
    "# TODO"
   ]
  },
  {
   "cell_type": "code",
   "execution_count": null,
   "metadata": {},
   "outputs": [],
   "source": []
  },
  {
   "cell_type": "code",
   "execution_count": null,
   "metadata": {},
   "outputs": [],
   "source": []
  }
 ],
 "metadata": {
  "kernelspec": {
   "display_name": "Python 3",
   "language": "python",
   "name": "python3"
  },
  "language_info": {
   "codemirror_mode": {
    "name": "ipython",
    "version": 3
   },
   "file_extension": ".py",
   "mimetype": "text/x-python",
   "name": "python",
   "nbconvert_exporter": "python",
   "pygments_lexer": "ipython3",
   "version": "3.6.7"
  }
 },
 "nbformat": 4,
 "nbformat_minor": 2
}
