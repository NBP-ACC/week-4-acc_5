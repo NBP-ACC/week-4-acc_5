{
 "cells": [
  {
   "cell_type": "markdown",
   "metadata": {},
   "source": [
    "Osnabrück University - A&C: Computational Cognition (Summer Term 2019)"
   ]
  },
  {
   "cell_type": "markdown",
   "metadata": {},
   "source": [
    "# Exercise Sheet 02: Basic statistics"
   ]
  },
  {
   "cell_type": "markdown",
   "metadata": {},
   "source": [
    "## Introduction\n",
    "\n",
    "This week's sheet should be solved and handed in at 14:00 at **Tuesday, April 30, 2019**. If you need help (and Google and other resources were not enough), feel free to contact your tutors. Please push your results to your Github group folder.\n",
    "\n",
    "In this exercise sheet you will have to work with ```pandas``` and ```seaborn```. ```pandas``` is one of the most preferred and widely used tools in data processing. What’s cool about ```pandas``` is that it takes data (like a CSV or TSV file, or a SQL database) and creates a Python object with rows and columns called 'data frame' that looks very similar to tables in a statistical software (think Excel or SPSS for example). ```pandas``` makes data processing a lot easier in comparison to working with lists and/or dictionaries through for-loops or list comprehension.  \n",
    "```seaborn``` is a library for making plots. It is based on ```matplotlib``` but offers more functions speicialized for statistical visualization. Also most people agree that ```seaborn``` looks more legit.\n",
    "\n",
    "Don't forget that you we will also give **2 points** for nice coding style!"
   ]
  },
  {
   "cell_type": "markdown",
   "metadata": {},
   "source": [
    "## Assignment 0: Peer review for sheet 01 [3 pts]"
   ]
  },
  {
   "cell_type": "markdown",
   "metadata": {},
   "source": [
    "Beginning this week you will have to make a peer review of the other groups' solutions. Each group reviews the solutions of two other groups and give points according to the given point distribution considering the correctness of the solution. For this reviews the tutors will give you up to 3 points each week.\n",
    "\n",
    "| * |Group 1|Group 2|Group 3|Group 4|Group 5|Group 6|Group 7|Group 8|Group 9|Group 10|Group 11|\n",
    "| ------- | ----- | ----- | ----- | ----- | ----- | ----- | ----- | ----- | ----- | ------ | ------ |\n",
    "| check solutions of group: | 10, 7 | 4, 9  | 1, 4  | 11, 1 | 8, 11 | 5, 3  | 9, 10 | 6, 5  | 3, 2  | 2, 8   | 7, 6   |"
   ]
  },
  {
   "cell_type": "markdown",
   "metadata": {},
   "source": [
    "You should open an issue in repositories of groups you have to check. The title of the issue should be your group name (e.g.\"Group 1\"). Comments on what was good and bad, how much points they get etc.  \n",
    "Refer to https://guides.github.com/features/issues/ to learn more about issues."
   ]
  },
  {
   "cell_type": "markdown",
   "metadata": {},
   "source": [
    "## Assignment 1: Dataframes [4 pts]"
   ]
  },
  {
   "cell_type": "code",
   "execution_count": 1,
   "metadata": {},
   "outputs": [],
   "source": [
    "# import libraries\n",
    "import os\n",
    "import numpy as np\n",
    "import pandas as pd\n",
    "import matplotlib.pyplot as plt\n",
    "import seaborn as sns\n",
    "sns.set()"
   ]
  },
  {
   "cell_type": "markdown",
   "metadata": {},
   "source": [
    "```matplotlib``` and ```seaborn``` should already be installed in your environment. If not please run:\n",
    "```sh\n",
    "pip install seaborn\n",
    "```"
   ]
  },
  {
   "cell_type": "markdown",
   "metadata": {},
   "source": [
    "### a) Importing a csv file [2 pts]"
   ]
  },
  {
   "cell_type": "markdown",
   "metadata": {},
   "source": [
    "Import the csv files of all subjects into one dataframe. Make sure that each row has a unique index. You might want to take a look at what ***pandas.concat*** does.<br>\n",
    "Extra fun: Display the output of the dataframe using the ***pandas.set_option*** function to display the data in a well-arranged way. Play a little bit around with the settings that you are allowed to change.<br>\n",
    "Save ```df_concatenated```.\n"
   ]
  },
  {
   "cell_type": "code",
   "execution_count": 2,
   "metadata": {},
   "outputs": [
    {
     "name": "stdout",
     "output_type": "stream",
     "text": [
      "     SubjectID  StimulusType  response   RT\n",
      "0            0             1         1  418\n",
      "1            0             0         1  269\n",
      "2            0             1         1  606\n",
      "3            0             1         1  333\n",
      "4            0             1         1  430\n",
      "5            0             1         1  367\n",
      "6            0             0         0    0\n",
      "7            0             1         1  349\n",
      "8            0             1         1  400\n",
      "9            0             1         1  367\n",
      "10           0             0         0    0\n",
      "11           0             0         0    0\n",
      "12           0             1         1  333\n",
      "13           0             1         1  350\n",
      "14           0             1         1  333\n",
      "..         ...           ...       ...  ...\n",
      "585          3             1         1  305\n",
      "586          3             1         1  323\n",
      "587          3             1         1  271\n",
      "588          3             1         1  324\n",
      "589          3             1         1  304\n",
      "590          3             1         1  255\n",
      "591          3             1         1  220\n",
      "592          3             0         1  254\n",
      "593          3             1         1  407\n",
      "594          3             1         1  490\n",
      "595          3             1         1  390\n",
      "596          3             1         1  289\n",
      "597          3             1         1  406\n",
      "598          3             1         1  407\n",
      "599          3             1         1  356\n",
      "\n",
      "[600 rows x 4 columns]\n"
     ]
    }
   ],
   "source": [
    "import glob\n",
    "import os\n",
    "\n",
    "PATH = os.getcwd()+ \"/Data\"\n",
    "all_files = glob.glob(os.path.join(PATH, \"*.csv\"))     # advisable to use os.path.join as this makes concatenation OS independent\n",
    "                                                       # http://www.oipapio.com/question-88634\n",
    "\n",
    "#iterates through files in all_files list and creates a concatenated dataframe\n",
    "df_concatenated = pd.concat([pd.read_csv(f) for f in all_files], axis=0, ignore_index = True)\n",
    "\n",
    "#some display settings to make it look nice (not all data will be displayed)\n",
    "#displayed rows depends on number of subjects (which also influences length of list)\n",
    "pd.set_option('display.max_rows', len(all_files)*5)\n",
    "print(df_concatenated)\n",
    "\n",
    "# save concatenated dataframe\n",
    "DATAPATH = os.path.join(os.getcwd(),'Processed', 'data_concatenated.csv')\n",
    "# making sure that directory exists\n",
    "if not os.path.isdir(os.path.join(os.getcwd(), 'Processed')):\n",
    "    os.mkdir(os.path.join(os.getcwd(), 'Processed'))\n",
    "\n",
    "# safe concatenated file \n",
    "df_concatenated.to_csv(DATAPATH)"
   ]
  },
  {
   "cell_type": "markdown",
   "metadata": {},
   "source": [
    "### b) Working with dataframes [2 pts]"
   ]
  },
  {
   "cell_type": "markdown",
   "metadata": {},
   "source": [
    "- Add a column called \"congruence\" to ```df_concatenated```. The column should have a value *True* if \"StimulusType\" and \"reponse\" matches. Otherwise the column should have a value *False*.\n",
    "\n",
    "- Create a new dataframe which has \"SubjectID\",\"StiumulusType\",\"RT\" and \"congruence\" as a column. For each combination of \"SubjectID\" and \"StimulusType\" (e.g. \"7001\" and \"0\") compute the average RT and congruence level.\n",
    "\n",
    "- When computing the average RT, omit all reaction times which are 0 as these will manipulate the mean.\n",
    "\n",
    "- Rename \"congruence\" as \"accuracy\" and save the dataframe as a csv file. "
   ]
  },
  {
   "cell_type": "code",
   "execution_count": 127,
   "metadata": {
    "scrolled": true
   },
   "outputs": [
    {
     "name": "stdout",
     "output_type": "stream",
     "text": [
      "   SubjectID  StimulusType      RT  accuracy\n",
      "0        0.0           0.0  248.83      0.85\n",
      "1        0.0           1.0  343.62      1.00\n",
      "2        1.0           0.0  269.75      0.70\n",
      "3        1.0           1.0  341.03      1.00\n",
      "4        2.0           0.0  271.00      0.95\n",
      "5        2.0           1.0  299.06      1.00\n",
      "6        3.0           0.0  254.00      0.90\n",
      "7        3.0           1.0  311.38      1.00\n"
     ]
    }
   ],
   "source": [
    "#add a column \"congruence\" that has value true if Stimulus and response hold the same value\n",
    "df_concatenated['congruence'] = (df_concatenated['StimulusType'] == df_concatenated['response'])\n",
    "\n",
    "#create a new dataframe with averaged data\n",
    "#create columns\n",
    "df_concatenated_avg = pd.DataFrame(columns=['SubjectID', 'StimulusType', 'RT', 'congruence'])\n",
    "\n",
    "#group dataframe by SubjectID and StimulusType (for each Subject we have 2 types of Stimuli 0 - 1)\n",
    "grouped = df_concatenated.groupby(['SubjectID','StimulusType'])\n",
    "\n",
    "#helper for adding rows to dataframe\n",
    "row = 0\n",
    "\n",
    "#we have 2 groups per subject (one group with stimulus 0 and one with stimulus 1)\n",
    "#thus the number of subjects is half the number of created groups\n",
    "for subject in range(len(grouped)//2):\n",
    "    #for each subject there are two groups / stimulus conditions\n",
    "    for stimType in range(2):\n",
    "        #get the groups with current subject index and stimulus Type\n",
    "        group = grouped.get_group((subject,stimType))\n",
    "        #computing the mean of the reaction time\n",
    "        #the zeros have to be replaced since we don't want them to manipulate the mean\n",
    "        meanRT = group.RT.replace(0, np.NaN).mean()\n",
    "        #computing the congruence mean\n",
    "        meanCongruence = group.congruence.mean()\n",
    "        #if all reaction time values are zero, the mean will be NaN due to our conversion measure\n",
    "        #thus we have to replace the NaN value with zero again since we only want numeric values\n",
    "        if(np.isnan(meanRT)):\n",
    "            meanRT = 0\n",
    "        #adding the new row to the dataframe while rounding the mean to 2 digits after the decimal point\n",
    "        df_concatenated_avg.loc[row] = [subject, stimType, round(meanRT,2), meanCongruence]\n",
    "        #increasing the row index to make sure that new rows are added while looping through the loops\n",
    "        row = row + 1\n",
    "\n",
    "#renaming the column called congruence to accuracy\n",
    "df_concatenated_avg.rename(columns={'congruence':'accuracy'}, inplace=True)\n",
    "\n",
    "print(df_concatenated_avg)\n",
    "\n",
    "# save averaged dataframe\n",
    "DATAPATH = os.getcwd() + '/Processed/data_concatenated_averaged.csv'\n",
    "df_concatenated_avg.to_csv(DATAPATH)"
   ]
  },
  {
   "cell_type": "markdown",
   "metadata": {},
   "source": [
    "## Assignment 2: Statistical plotting [6 pts]"
   ]
  },
  {
   "cell_type": "markdown",
   "metadata": {},
   "source": [
    "### a) Boxplot and Violinplot [2 pts]"
   ]
  },
  {
   "cell_type": "markdown",
   "metadata": {},
   "source": [
    "Plot the RT of each trial for all subjects as a stripplot and a boxplot on top of each other. Do the same with a striplot and a violinplot. Plot go trials as green dots and no-go trails as red dots. Reminder: don't forget to mask the data where RT=0. Make sure that the legends are informative (Don't display duplicated legends)."
   ]
  },
  {
   "cell_type": "code",
   "execution_count": 128,
   "metadata": {
    "scrolled": false
   },
   "outputs": [
    {
     "data": {
      "image/png": "[encoded data removed]",
      "text/plain": [
       "<Figure size 432x288 with 2 Axes>"
      ]
     },
     "metadata": {
      "needs_background": "light"
     },
     "output_type": "display_data"
    }
   ],
   "source": [
    "# read data\n",
    "data_concat = pd.read_csv(os.getcwd() + \"/Processed/data_concatenated.csv\")\n",
    "\n",
    "# create two axes\n",
    "fig, axes = plt.subplots(nrows=1,ncols=2)\n",
    "\n",
    "# first subplot with stripplot and boxplot    \n",
    "data_concat['RT'] = data_concat['RT'].replace(0, np.NaN)\n",
    "data_concat['StimulusType'] = data_concat['StimulusType'].replace(1, 'green')\n",
    "data_concat['StimulusType'] = data_concat['StimulusType'].replace(0, 'red')\n",
    "\n",
    "sns.stripplot(data = data_concat, y='RT', hue=\"StimulusType\", ax=axes[0])\n",
    "sns.boxplot(y=data_concat['RT'], ax=axes[0])\n",
    "\n",
    "\n",
    "# second subplot with stripplot and violinplot\n",
    "sns.stripplot(y=data_concat['RT'], hue=data_concat['StimulusType'])\n",
    "sns.violinplot(y=data_concat['RT'], hue=data_concat['StimulusType'])\n",
    "\n",
    "# handling legends\n",
    "# TODO\n",
    "\n",
    "fig.tight_layout()"
   ]
  },
  {
   "cell_type": "markdown",
   "metadata": {},
   "source": [
    "### b) Violinplot combining all data of all groups [3 pts]"
   ]
  },
  {
   "cell_type": "markdown",
   "metadata": {},
   "source": [
    "- Make a dataframe consisting of all data across groups. You already did this in 1.a). At the end this dataframe you should have 8 * 11 * 100 rows.\n",
    "\n",
    "- Every group has used their ID convention. Make sure that every data point follows this SubjectID system: group number + \"00\" + subject number.  \n",
    "e.g) 3002 for the second subject of the third group.\n",
    "\n",
    "- Compute average RT and accuaracy for each subject in the big dataframe you just created. You already did this in 1.b). At the end this dataframe will have 8 * 11 rows.\n",
    "\n",
    "- On the first column plot average RT and accuracy for 8 subjects from your group's data. Use violinplot and split go/no-go conditions.\n",
    "\n",
    "- On the second column plot average RT and accuracy for 80 subjects from all data. Use violinplot and split go/no-go conditions.\n",
    "\n",
    "- Do you see any difference between the first column and the second column? What does this tell us about the central limit theorem (CLT) ?"
   ]
  },
  {
   "cell_type": "code",
   "execution_count": 5,
   "metadata": {},
   "outputs": [
    {
     "data": {
      "image/png": "[encoded data removed]",
      "text/plain": [
       "<Figure size 432x288 with 4 Axes>"
      ]
     },
     "metadata": {
      "needs_background": "light"
     },
     "output_type": "display_data"
    }
   ],
   "source": [
    "# again create a concatenated dataframe over all (averaged) groups.\n",
    "# Don't forget to modify the Subject ID\n",
    "# TODO\n",
    "\n",
    "# Now it's time to plot your results\n",
    "figs, axes = plt.subplots(nrows=2, ncols=2, sharey=\"row\")\n",
    "\n",
    "# violin plot for your group's data\n",
    "# TODO\n",
    "\n",
    "# violin plot of all group's data\n",
    "# TODO\n"
   ]
  },
  {
   "cell_type": "markdown",
   "metadata": {},
   "source": [
    "Compare two datasets and relate it with CLT. Write your opinion here."
   ]
  },
  {
   "cell_type": "markdown",
   "metadata": {},
   "source": [
    "### c) Scatterplot [1 pts]"
   ]
  },
  {
   "cell_type": "markdown",
   "metadata": {},
   "source": [
    "Make a scatterplot comparing RT and accuracy. Do you see some correlation?"
   ]
  },
  {
   "cell_type": "code",
   "execution_count": 6,
   "metadata": {},
   "outputs": [],
   "source": [
    "# TODO"
   ]
  }
 ],
 "metadata": {
  "kernelspec": {
   "display_name": "Python 3",
   "language": "python",
   "name": "python3"
  },
  "language_info": {
   "codemirror_mode": {
    "name": "ipython",
    "version": 3
   },
   "file_extension": ".py",
   "mimetype": "text/x-python",
   "name": "python",
   "nbconvert_exporter": "python",
   "pygments_lexer": "ipython3",
   "version": "3.6.8"
  }
 },
 "nbformat": 4,
 "nbformat_minor": 2
}
